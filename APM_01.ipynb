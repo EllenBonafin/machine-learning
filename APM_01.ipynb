{
  "nbformat": 4,
  "nbformat_minor": 0,
  "metadata": {
    "colab": {
      "name": "APM-01.ipynb",
      "provenance": [],
      "collapsed_sections": [],
      "include_colab_link": true
    },
    "kernelspec": {
      "name": "python3",
      "display_name": "Python 3"
    },
    "language_info": {
      "name": "python"
    }
  },
  "cells": [
    {
      "cell_type": "markdown",
      "metadata": {
        "id": "view-in-github",
        "colab_type": "text"
      },
      "source": [
        "<a href=\"https://colab.research.google.com/github/EllenBonafin/machine-learning/blob/main/APM_01.ipynb\" target=\"_parent\"><img src=\"https://colab.research.google.com/assets/colab-badge.svg\" alt=\"Open In Colab\"/></a>"
      ]
    },
    {
      "cell_type": "markdown",
      "source": [
        "IMPORTANDO OS CALSSIFICADORES \n"
      ],
      "metadata": {
        "id": "O-2eycXJS6S6"
      }
    },
    {
      "cell_type": "code",
      "execution_count": null,
      "metadata": {
        "id": "mAB49FFNS0hz"
      },
      "outputs": [],
      "source": [
        "from sklearn.neighbors import KNeighborsClassifier # KNN\n",
        "from sklearn.tree import DecisionTreeClassifier, export_graphviz # Árvore de decisão\n",
        "from sklearn.naive_bayes import GaussianNB # Naive Bayes\n",
        "from sklearn.svm import SVC # SVM\n",
        "from sklearn.neural_network import MLPClassifier # MLP"
      ]
    },
    {
      "cell_type": "code",
      "source": [
        "import pandas as pd\n",
        "import numpy as np\n",
        "import seaborn as sns\n",
        "import statistics\n",
        "from sklearn.metrics import accuracy_score\n",
        "from sklearn.metrics import classification_report, confusion_matrix\n",
        "from sklearn.utils import shuffle\n",
        "from sklearn.model_selection import train_test_split"
      ],
      "metadata": {
        "id": "8bVyF7sjTE2J"
      },
      "execution_count": null,
      "outputs": []
    },
    {
      "cell_type": "markdown",
      "source": [
        "IMPORTANDO A BASE DE DADOS"
      ],
      "metadata": {
        "id": "DDXVgSeHTJsx"
      }
    },
    {
      "cell_type": "code",
      "source": [
        "df = pd.read_csv('/content/Lithuanianok.csv')\n",
        "df_param = pd.DataFrame(df, columns=df.columns[:-1])"
      ],
      "metadata": {
        "id": "igzyN8UhTNFd"
      },
      "execution_count": null,
      "outputs": []
    },
    {
      "cell_type": "code",
      "source": [
        "#Previa da base de dados\n",
        "df.head()"
      ],
      "metadata": {
        "colab": {
          "base_uri": "https://localhost:8080/",
          "height": 206
        },
        "id": "2sDr5doRTntD",
        "outputId": "3aec661c-6185-40d2-f2a4-891cd3a6ac0a"
      },
      "execution_count": null,
      "outputs": [
        {
          "output_type": "execute_result",
          "data": {
            "text/plain": [
              "          A1        A2  Class\n",
              "0   9.654958  4.002121      1\n",
              "1  10.778071  3.215585      1\n",
              "2   5.267417 -9.959199      1\n",
              "3   7.845224  4.954154      1\n",
              "4   7.035757 -5.301141      1"
            ],
            "text/html": [
              "\n",
              "  <div id=\"df-4599bad5-1ed5-4ed2-a1da-bf3e4091c9fe\">\n",
              "    <div class=\"colab-df-container\">\n",
              "      <div>\n",
              "<style scoped>\n",
              "    .dataframe tbody tr th:only-of-type {\n",
              "        vertical-align: middle;\n",
              "    }\n",
              "\n",
              "    .dataframe tbody tr th {\n",
              "        vertical-align: top;\n",
              "    }\n",
              "\n",
              "    .dataframe thead th {\n",
              "        text-align: right;\n",
              "    }\n",
              "</style>\n",
              "<table border=\"1\" class=\"dataframe\">\n",
              "  <thead>\n",
              "    <tr style=\"text-align: right;\">\n",
              "      <th></th>\n",
              "      <th>A1</th>\n",
              "      <th>A2</th>\n",
              "      <th>Class</th>\n",
              "    </tr>\n",
              "  </thead>\n",
              "  <tbody>\n",
              "    <tr>\n",
              "      <th>0</th>\n",
              "      <td>9.654958</td>\n",
              "      <td>4.002121</td>\n",
              "      <td>1</td>\n",
              "    </tr>\n",
              "    <tr>\n",
              "      <th>1</th>\n",
              "      <td>10.778071</td>\n",
              "      <td>3.215585</td>\n",
              "      <td>1</td>\n",
              "    </tr>\n",
              "    <tr>\n",
              "      <th>2</th>\n",
              "      <td>5.267417</td>\n",
              "      <td>-9.959199</td>\n",
              "      <td>1</td>\n",
              "    </tr>\n",
              "    <tr>\n",
              "      <th>3</th>\n",
              "      <td>7.845224</td>\n",
              "      <td>4.954154</td>\n",
              "      <td>1</td>\n",
              "    </tr>\n",
              "    <tr>\n",
              "      <th>4</th>\n",
              "      <td>7.035757</td>\n",
              "      <td>-5.301141</td>\n",
              "      <td>1</td>\n",
              "    </tr>\n",
              "  </tbody>\n",
              "</table>\n",
              "</div>\n",
              "      <button class=\"colab-df-convert\" onclick=\"convertToInteractive('df-4599bad5-1ed5-4ed2-a1da-bf3e4091c9fe')\"\n",
              "              title=\"Convert this dataframe to an interactive table.\"\n",
              "              style=\"display:none;\">\n",
              "        \n",
              "  <svg xmlns=\"http://www.w3.org/2000/svg\" height=\"24px\"viewBox=\"0 0 24 24\"\n",
              "       width=\"24px\">\n",
              "    <path d=\"M0 0h24v24H0V0z\" fill=\"none\"/>\n",
              "    <path d=\"M18.56 5.44l.94 2.06.94-2.06 2.06-.94-2.06-.94-.94-2.06-.94 2.06-2.06.94zm-11 1L8.5 8.5l.94-2.06 2.06-.94-2.06-.94L8.5 2.5l-.94 2.06-2.06.94zm10 10l.94 2.06.94-2.06 2.06-.94-2.06-.94-.94-2.06-.94 2.06-2.06.94z\"/><path d=\"M17.41 7.96l-1.37-1.37c-.4-.4-.92-.59-1.43-.59-.52 0-1.04.2-1.43.59L10.3 9.45l-7.72 7.72c-.78.78-.78 2.05 0 2.83L4 21.41c.39.39.9.59 1.41.59.51 0 1.02-.2 1.41-.59l7.78-7.78 2.81-2.81c.8-.78.8-2.07 0-2.86zM5.41 20L4 18.59l7.72-7.72 1.47 1.35L5.41 20z\"/>\n",
              "  </svg>\n",
              "      </button>\n",
              "      \n",
              "  <style>\n",
              "    .colab-df-container {\n",
              "      display:flex;\n",
              "      flex-wrap:wrap;\n",
              "      gap: 12px;\n",
              "    }\n",
              "\n",
              "    .colab-df-convert {\n",
              "      background-color: #E8F0FE;\n",
              "      border: none;\n",
              "      border-radius: 50%;\n",
              "      cursor: pointer;\n",
              "      display: none;\n",
              "      fill: #1967D2;\n",
              "      height: 32px;\n",
              "      padding: 0 0 0 0;\n",
              "      width: 32px;\n",
              "    }\n",
              "\n",
              "    .colab-df-convert:hover {\n",
              "      background-color: #E2EBFA;\n",
              "      box-shadow: 0px 1px 2px rgba(60, 64, 67, 0.3), 0px 1px 3px 1px rgba(60, 64, 67, 0.15);\n",
              "      fill: #174EA6;\n",
              "    }\n",
              "\n",
              "    [theme=dark] .colab-df-convert {\n",
              "      background-color: #3B4455;\n",
              "      fill: #D2E3FC;\n",
              "    }\n",
              "\n",
              "    [theme=dark] .colab-df-convert:hover {\n",
              "      background-color: #434B5C;\n",
              "      box-shadow: 0px 1px 3px 1px rgba(0, 0, 0, 0.15);\n",
              "      filter: drop-shadow(0px 1px 2px rgba(0, 0, 0, 0.3));\n",
              "      fill: #FFFFFF;\n",
              "    }\n",
              "  </style>\n",
              "\n",
              "      <script>\n",
              "        const buttonEl =\n",
              "          document.querySelector('#df-4599bad5-1ed5-4ed2-a1da-bf3e4091c9fe button.colab-df-convert');\n",
              "        buttonEl.style.display =\n",
              "          google.colab.kernel.accessAllowed ? 'block' : 'none';\n",
              "\n",
              "        async function convertToInteractive(key) {\n",
              "          const element = document.querySelector('#df-4599bad5-1ed5-4ed2-a1da-bf3e4091c9fe');\n",
              "          const dataTable =\n",
              "            await google.colab.kernel.invokeFunction('convertToInteractive',\n",
              "                                                     [key], {});\n",
              "          if (!dataTable) return;\n",
              "\n",
              "          const docLinkHtml = 'Like what you see? Visit the ' +\n",
              "            '<a target=\"_blank\" href=https://colab.research.google.com/notebooks/data_table.ipynb>data table notebook</a>'\n",
              "            + ' to learn more about interactive tables.';\n",
              "          element.innerHTML = '';\n",
              "          dataTable['output_type'] = 'display_data';\n",
              "          await google.colab.output.renderOutput(dataTable, element);\n",
              "          const docLink = document.createElement('div');\n",
              "          docLink.innerHTML = docLinkHtml;\n",
              "          element.appendChild(docLink);\n",
              "        }\n",
              "      </script>\n",
              "    </div>\n",
              "  </div>\n",
              "  "
            ]
          },
          "metadata": {},
          "execution_count": 9
        }
      ]
    },
    {
      "cell_type": "code",
      "source": [
        "print(df_param.shape)"
      ],
      "metadata": {
        "colab": {
          "base_uri": "https://localhost:8080/"
        },
        "id": "5rKyy3hpTuwr",
        "outputId": "358f1002-a8d9-460e-e782-4b053aa9c0ac"
      },
      "execution_count": null,
      "outputs": [
        {
          "output_type": "stream",
          "name": "stdout",
          "text": [
            "(2000, 2)\n"
          ]
        }
      ]
    },
    {
      "cell_type": "markdown",
      "source": [
        "DATA SET"
      ],
      "metadata": {
        "id": "JSXCoCMbTzBS"
      }
    },
    {
      "cell_type": "code",
      "source": [
        "#Divisão da base original : primeira metade para cada, 50% para o treino e 50% para os dois restantes\n",
        "x_training, x_remaining, y_training, y_remaining = train_test_split(df_param, df['Class'], test_size=0.5, shuffle=True, stratify=df['Class'])\n",
        "\n",
        "#Realiza a divisão do restante (metade para cada, 50% para teste e 50% para validação)\n",
        "x_validation, x_test, y_validation, y_test = train_test_split(x_remaining, y_remaining, test_size=0.5, shuffle=True, stratify=y_remaining)\n",
        "print('Treino')\n",
        "print(x_training.shape) #50% \n",
        "print(np.unique(y_training, return_counts=True))\n",
        "print(' ')\n",
        "print('Validação')\n",
        "print(x_validation.shape) #25% \n",
        "print(np.unique(y_validation, return_counts=True))\n",
        "print(' ')\n",
        "print('teste')\n",
        "print(x_test.shape) #25%\n",
        "print(np.unique(y_test, return_counts=True))"
      ],
      "metadata": {
        "colab": {
          "base_uri": "https://localhost:8080/"
        },
        "id": "CdB2wg8TT2Zg",
        "outputId": "ffd9eea4-26ff-41bd-99ba-7c78f99d1903"
      },
      "execution_count": null,
      "outputs": [
        {
          "output_type": "stream",
          "name": "stdout",
          "text": [
            "Treino\n",
            "(1000, 2)\n",
            "(array([1, 2]), array([500, 500]))\n",
            " \n",
            "Validação\n",
            "(500, 2)\n",
            "(array([1, 2]), array([250, 250]))\n",
            " \n",
            "teste\n",
            "(500, 2)\n",
            "(array([1, 2]), array([250, 250]))\n"
          ]
        }
      ]
    },
    {
      "cell_type": "markdown",
      "source": [
        "ALCANÇANDO OS MELHORES PARAMETROS"
      ],
      "metadata": {
        "id": "3DOEOEmwT_l0"
      }
    },
    {
      "cell_type": "markdown",
      "source": [
        "KNN\n"
      ],
      "metadata": {
        "id": "FoSUHVudUZRU"
      }
    },
    {
      "cell_type": "code",
      "source": [
        "#KNN Não ponderado\n",
        "print('KNN NÃO PONDERADO')\n",
        "# Inicializa um array vazio onde sera gravado a acuracia\n",
        "acuracia = []\n",
        "\n",
        "for i in range (1,21):\n",
        "  knn = KNeighborsClassifier(n_neighbors=i, weights='uniform')\n",
        "  knn.fit(x_training, y_training)\n",
        "  prev = knn.predict(x_validation)\n",
        "  \n",
        "  # Grava a acuracia com o k = i na posicao i+1\n",
        "  acuracia.append(accuracy_score(y_validation, prev))\n",
        "\n",
        "#best_Value vai Gravar o valor que apresentara o melhor resuldado\n",
        "best_value = np.argmax(acuracia)+1 \n",
        "# Mostra o valor que apresentou a maior acuracia\n",
        "print(\"Melhor valor K = \", best_value)\n",
        "print(\"Acuracia com o K=\", best_value, \" = \", acuracia[np.argmax(acuracia)])\n",
        "print(acuracia)\n",
        "print(\"\")\n",
        "  \n",
        "#KNN Ponderado pelo inverso da distância euclidiana\n",
        "print('KNN PONDERADO PELO VALOR DA DISTANCIA EUCLIDIANA')\n",
        "# Inicializa um array vazio onde sera gravado a acuracia\n",
        "acuracia = []\n",
        "\n",
        "for i in range (1,21):\n",
        "  knn = KNeighborsClassifier(n_neighbors=i, metric='euclidean', weights='distance')\n",
        "  knn.fit(x_training, y_training)\n",
        "  prev = knn.predict(x_validation)\n",
        "  \n",
        "  # Grava a acuracia com o k = i na posicao i+1\n",
        "  acuracia.append(accuracy_score(y_validation, prev))\n",
        "\n",
        "# Grava o valor que apresentou o melhor resuldado\n",
        "best_value = np.argmax(acuracia)+1  \n",
        "# Mostra o valor que apresentou a maior acuracia\n",
        "print(\" O Melhor K = \", best_value) \n",
        "print(\"Acuracia com o K=\", best_value, \" = \", acuracia[np.argmax(acuracia)])\n",
        "print(acuracia)\n",
        "print(\"\")"
      ],
      "metadata": {
        "colab": {
          "base_uri": "https://localhost:8080/"
        },
        "id": "g5TJVNrwUYED",
        "outputId": "30e3509f-7719-4fa2-87a8-3205ebfcd2a6"
      },
      "execution_count": null,
      "outputs": [
        {
          "output_type": "stream",
          "name": "stdout",
          "text": [
            "KNN NÃO PONDERADO\n",
            "Melhor valor K =  18\n",
            "Acuracia com o K= 18  =  0.97\n",
            "[0.958, 0.962, 0.968, 0.968, 0.968, 0.968, 0.966, 0.966, 0.966, 0.966, 0.966, 0.966, 0.968, 0.964, 0.968, 0.966, 0.968, 0.97, 0.968, 0.97]\n",
            "\n",
            "KNN PONDERADO PELO VALOR DA DISTANCIA EUCLIDIANA\n",
            " O Melhor K =  6\n",
            "Acuracia com o K= 6  =  0.966\n",
            "[0.958, 0.958, 0.964, 0.964, 0.962, 0.966, 0.964, 0.964, 0.962, 0.962, 0.96, 0.962, 0.964, 0.964, 0.964, 0.964, 0.964, 0.964, 0.964, 0.964]\n",
            "\n"
          ]
        }
      ]
    },
    {
      "cell_type": "markdown",
      "source": [
        "ARVORE DE DECISÃO"
      ],
      "metadata": {
        "id": "GwCEQutSVGK0"
      }
    },
    {
      "cell_type": "markdown",
      "source": [
        "1.MELHORES PARAMETROS\n",
        "\n",
        "\n",
        "---\n",
        "\n"
      ],
      "metadata": {
        "id": "rdwk1unyUhC7"
      }
    },
    {
      "cell_type": "code",
      "source": [
        "# Árvore sem poda\n",
        "ad = DecisionTreeClassifier()\n",
        "ad.fit(x_training, y_training) \n",
        "prev = ad.predict(x_validation)\n",
        "\n",
        "print(\"No = \", ad.tree_.node_count)\n",
        "# Pega a densidade da árvore sem poda\n",
        "depth = ad.get_depth() \n",
        "# Adiciona um para rodar um a mais da densidade maxima\n",
        "depth = depth + 1 \n",
        "# Inicializa um array vazio onde sera gravado a acuracia\n",
        "acuracia = []\n",
        "\n",
        "# Comparando todas as árvores possiveis\n",
        "for i in range (1, depth):\n",
        "  ad = DecisionTreeClassifier(max_depth = i)\n",
        "  ad.fit(x_training, y_training) \n",
        "  prev = ad.predict(x_validation)\n",
        "  # Grava a taxa de erro com o max_depth = i na posicao i+1\n",
        "  acuracia.append(accuracy_score(y_validation, prev))\n",
        "  print(\"No = \", ad.tree_.node_count)\n",
        "\n",
        "melhor_max_depth = np.argmax(acuracia)+1  # Grava o valor que apresentou o melhor resuldado\n",
        "print(acuracia)\n",
        "print(\"MELHOR DENSIDADE = \", melhor_max_depth) # Mostra o valor que apresentou a maior acuracia\n",
        "print(\"A ACURACIA COM A MELHOR DENSIDADE =\", melhor_max_depth, \" = \", acuracia[np.argmax(acuracia)])"
      ],
      "metadata": {
        "colab": {
          "base_uri": "https://localhost:8080/"
        },
        "id": "k1zrsvS9Usnd",
        "outputId": "749874d6-804f-4e0c-b5f1-06b1ca096289"
      },
      "execution_count": null,
      "outputs": [
        {
          "output_type": "stream",
          "name": "stdout",
          "text": [
            "No =  75\n",
            "No =  3\n",
            "No =  7\n",
            "No =  15\n",
            "No =  25\n",
            "No =  39\n",
            "No =  53\n",
            "No =  61\n",
            "No =  67\n",
            "No =  69\n",
            "No =  73\n",
            "No =  75\n",
            "[0.8, 0.866, 0.932, 0.948, 0.954, 0.96, 0.96, 0.964, 0.964, 0.964, 0.962]\n",
            "MELHOR DENSIDADE =  8\n",
            "A ACURACIA COM A MELHOR DENSIDADE = 8  =  0.964\n"
          ]
        }
      ]
    },
    {
      "cell_type": "markdown",
      "source": [
        "2.CALSSIFICADOR COM OS MELHORES PARAMETROS OBTIDOS\n"
      ],
      "metadata": {
        "id": "M29ldU2RU1Nv"
      }
    },
    {
      "cell_type": "code",
      "source": [
        "# Inicializa o classificador com o melhor parametro\n",
        "ad = DecisionTreeClassifier(max_depth = 3)\n",
        "ad.fit(x_training, y_training) \n",
        "prev = ad.predict(x_test)\n",
        "\n",
        "# Avalia a precisão\n",
        "print(accuracy_score(y_test, prev))\n",
        "print(confusion_matrix(y_test, prev))"
      ],
      "metadata": {
        "colab": {
          "base_uri": "https://localhost:8080/"
        },
        "id": "vmT0iZmMU6mE",
        "outputId": "7ef50b05-8479-4c0c-b25c-8fbb7e7ab4e5"
      },
      "execution_count": null,
      "outputs": [
        {
          "output_type": "stream",
          "name": "stdout",
          "text": [
            "0.924\n",
            "[[219  31]\n",
            " [  7 243]]\n"
          ]
        }
      ]
    },
    {
      "cell_type": "markdown",
      "source": [
        "3.VIZUALIZAÇÃO DA ARVORE"
      ],
      "metadata": {
        "id": "p4gPR6tQVLQz"
      }
    },
    {
      "cell_type": "code",
      "source": [
        "# é Necessario ter a instalado para exibir a árvore graficamente\n",
        "!apt-get install python-pydot\n",
        "!pip install pydotplus"
      ],
      "metadata": {
        "colab": {
          "base_uri": "https://localhost:8080/"
        },
        "id": "5oXhPyDOU9vZ",
        "outputId": "cab3e140-5f52-492a-c930-38c48a7b266c"
      },
      "execution_count": null,
      "outputs": [
        {
          "output_type": "stream",
          "name": "stdout",
          "text": [
            "Reading package lists... Done\n",
            "Building dependency tree       \n",
            "Reading state information... Done\n",
            "The following additional packages will be installed:\n",
            "  python-pyparsing\n",
            "Suggested packages:\n",
            "  python-pyparsing-doc\n",
            "The following NEW packages will be installed:\n",
            "  python-pydot python-pyparsing\n",
            "0 upgraded, 2 newly installed, 0 to remove and 39 not upgraded.\n",
            "Need to get 71.7 kB of archives.\n",
            "After this operation, 347 kB of additional disk space will be used.\n",
            "Get:1 http://archive.ubuntu.com/ubuntu bionic/main amd64 python-pyparsing all 2.2.0+dfsg1-2 [52.1 kB]\n",
            "Get:2 http://archive.ubuntu.com/ubuntu bionic/universe amd64 python-pydot all 1.2.3-1 [19.6 kB]\n",
            "Fetched 71.7 kB in 1s (140 kB/s)\n",
            "Selecting previously unselected package python-pyparsing.\n",
            "(Reading database ... 155335 files and directories currently installed.)\n",
            "Preparing to unpack .../python-pyparsing_2.2.0+dfsg1-2_all.deb ...\n",
            "Unpacking python-pyparsing (2.2.0+dfsg1-2) ...\n",
            "Selecting previously unselected package python-pydot.\n",
            "Preparing to unpack .../python-pydot_1.2.3-1_all.deb ...\n",
            "Unpacking python-pydot (1.2.3-1) ...\n",
            "Setting up python-pyparsing (2.2.0+dfsg1-2) ...\n",
            "Setting up python-pydot (1.2.3-1) ...\n",
            "Requirement already satisfied: pydotplus in /usr/local/lib/python3.7/dist-packages (2.0.2)\n",
            "Requirement already satisfied: pyparsing>=2.0.1 in /usr/local/lib/python3.7/dist-packages (from pydotplus) (3.0.7)\n"
          ]
        }
      ]
    },
    {
      "cell_type": "code",
      "source": [
        "!pip install --upgrade scikit-learn==0.20.3"
      ],
      "metadata": {
        "colab": {
          "base_uri": "https://localhost:8080/",
          "height": 366
        },
        "id": "6nvJNsAsVkC8",
        "outputId": "df6c410f-f0bb-48eb-a2e1-cab68da9859a"
      },
      "execution_count": null,
      "outputs": [
        {
          "output_type": "stream",
          "name": "stdout",
          "text": [
            "Collecting scikit-learn==0.20.3\n",
            "  Downloading scikit_learn-0.20.3-cp37-cp37m-manylinux1_x86_64.whl (5.4 MB)\n",
            "\u001b[K     |████████████████████████████████| 5.4 MB 3.5 MB/s \n",
            "\u001b[?25hRequirement already satisfied: numpy>=1.8.2 in /usr/local/lib/python3.7/dist-packages (from scikit-learn==0.20.3) (1.21.5)\n",
            "Requirement already satisfied: scipy>=0.13.3 in /usr/local/lib/python3.7/dist-packages (from scikit-learn==0.20.3) (1.4.1)\n",
            "Installing collected packages: scikit-learn\n",
            "  Attempting uninstall: scikit-learn\n",
            "    Found existing installation: scikit-learn 1.0.2\n",
            "    Uninstalling scikit-learn-1.0.2:\n",
            "      Successfully uninstalled scikit-learn-1.0.2\n",
            "\u001b[31mERROR: pip's dependency resolver does not currently take into account all the packages that are installed. This behaviour is the source of the following dependency conflicts.\n",
            "yellowbrick 1.4 requires scikit-learn>=1.0.0, but you have scikit-learn 0.20.3 which is incompatible.\n",
            "imbalanced-learn 0.8.1 requires scikit-learn>=0.24, but you have scikit-learn 0.20.3 which is incompatible.\u001b[0m\n",
            "Successfully installed scikit-learn-0.20.3\n"
          ]
        },
        {
          "output_type": "display_data",
          "data": {
            "application/vnd.colab-display-data+json": {
              "pip_warning": {
                "packages": [
                  "sklearn"
                ]
              }
            }
          },
          "metadata": {}
        }
      ]
    },
    {
      "cell_type": "code",
      "source": [
        "from sklearn.externals.six import StringIO\n",
        "from IPython.display import Image\n",
        "import pydotplus\n",
        "\n",
        "dot_data = StringIO()\n",
        "export_graphviz(ad, out_file=dot_data)\n",
        "graph = pydotplus.graph_from_dot_data(dot_data.getvalue())  \n",
        "Image(graph.create_png())"
      ],
      "metadata": {
        "colab": {
          "base_uri": "https://localhost:8080/",
          "height": 373
        },
        "id": "1EKb9IR1Vgrq",
        "outputId": "bc5cd87c-fb95-40af-c0ab-a51c450a144e"
      },
      "execution_count": null,
      "outputs": [
        {
          "output_type": "error",
          "ename": "ModuleNotFoundError",
          "evalue": "ignored",
          "traceback": [
            "\u001b[0;31m---------------------------------------------------------------------------\u001b[0m",
            "\u001b[0;31mModuleNotFoundError\u001b[0m                       Traceback (most recent call last)",
            "\u001b[0;32m<ipython-input-33-52d6bbf6f7fd>\u001b[0m in \u001b[0;36m<module>\u001b[0;34m()\u001b[0m\n\u001b[0;32m----> 1\u001b[0;31m \u001b[0;32mfrom\u001b[0m \u001b[0msklearn\u001b[0m\u001b[0;34m.\u001b[0m\u001b[0mexternals\u001b[0m\u001b[0;34m.\u001b[0m\u001b[0msix\u001b[0m \u001b[0;32mimport\u001b[0m \u001b[0mStringIO\u001b[0m\u001b[0;34m\u001b[0m\u001b[0;34m\u001b[0m\u001b[0m\n\u001b[0m\u001b[1;32m      2\u001b[0m \u001b[0;32mfrom\u001b[0m \u001b[0mIPython\u001b[0m\u001b[0;34m.\u001b[0m\u001b[0mdisplay\u001b[0m \u001b[0;32mimport\u001b[0m \u001b[0mImage\u001b[0m\u001b[0;34m\u001b[0m\u001b[0;34m\u001b[0m\u001b[0m\n\u001b[1;32m      3\u001b[0m \u001b[0;32mimport\u001b[0m \u001b[0mpydotplus\u001b[0m\u001b[0;34m\u001b[0m\u001b[0;34m\u001b[0m\u001b[0m\n\u001b[1;32m      4\u001b[0m \u001b[0;34m\u001b[0m\u001b[0m\n\u001b[1;32m      5\u001b[0m \u001b[0mdot_data\u001b[0m \u001b[0;34m=\u001b[0m \u001b[0mStringIO\u001b[0m\u001b[0;34m(\u001b[0m\u001b[0;34m)\u001b[0m\u001b[0;34m\u001b[0m\u001b[0;34m\u001b[0m\u001b[0m\n",
            "\u001b[0;31mModuleNotFoundError\u001b[0m: No module named 'sklearn.externals.six'",
            "",
            "\u001b[0;31m---------------------------------------------------------------------------\u001b[0;32m\nNOTE: If your import is failing due to a missing package, you can\nmanually install dependencies using either !pip or !apt.\n\nTo view examples of installing some common dependencies, click the\n\"Open Examples\" button below.\n\u001b[0;31m---------------------------------------------------------------------------\u001b[0m\n"
          ],
          "errorDetails": {
            "actions": [
              {
                "action": "open_url",
                "actionText": "Open Examples",
                "url": "/notebooks/snippets/importing_libraries.ipynb"
              }
            ]
          }
        }
      ]
    },
    {
      "cell_type": "markdown",
      "source": [
        "NAIVE BASE\n"
      ],
      "metadata": {
        "id": "IbWo62P7WFYj"
      }
    },
    {
      "cell_type": "code",
      "source": [
        "# Inicializa o classificador\n",
        "nb = GaussianNB()\n",
        "\n",
        "# Treina o classificador\n",
        "nb.fit(x_training, y_training)\n",
        "prev = nb.predict(x_test)\n",
        "\n",
        "# Avalia a precisão\n",
        "print(accuracy_score(y_test, prev))\n",
        "print(confusion_matrix(y_test, prev))"
      ],
      "metadata": {
        "colab": {
          "base_uri": "https://localhost:8080/"
        },
        "id": "F1I5Op9DWIDu",
        "outputId": "df95d8fa-d23f-439a-938d-1bf1056dbd24"
      },
      "execution_count": null,
      "outputs": [
        {
          "output_type": "stream",
          "name": "stdout",
          "text": [
            "0.892\n",
            "[[217  33]\n",
            " [ 21 229]]\n"
          ]
        }
      ]
    },
    {
      "cell_type": "markdown",
      "source": [
        "SVM"
      ],
      "metadata": {
        "id": "xUIn8sLFWYwu"
      }
    },
    {
      "cell_type": "markdown",
      "source": [
        "ENCONTRANDO OS MELHORES PARAMETROS"
      ],
      "metadata": {
        "id": "9ipiOeGsWgO2"
      }
    },
    {
      "cell_type": "code",
      "source": [
        "#SVM Polinomial\n",
        "print('SVM Polinomial')\n",
        "# Inicializa um array vazio onde será gravado a acuracia\n",
        "acuracia = []\n",
        "\n",
        "# Testa vários degree no classificador\n",
        "for i in range(1,21):\n",
        "  svm_polinomial = SVC(C=i, kernel='poly')\n",
        "  svm_polinomial.fit(x_training, y_training)\n",
        "  prev = svm_polinomial.predict(x_validation)\n",
        "  # Grava a taxa de erro com o c = i na posicao i+1\n",
        "  acuracia.append(accuracy_score(y_validation, prev))\n",
        "\n",
        "melhor_c = (np.argmax(acuracia)+1) # Grava o valor que apresentou o melhor resuldado\n",
        "print(acuracia) # Mostra as acuracias\n",
        "print(\"Melhor C = \", melhor_c) # Mostra o valor que apresentou a maior acuracia\n",
        "print(\"Acuracia com o C =\", melhor_c, \" = \", acuracia[np.argmax(acuracia)])\n",
        "print('------------------------------------------------------------------')\n",
        "# SVM Radial\n",
        "print('SVM Radial')\n",
        "acuracia = []\n",
        "\n",
        "for i in range(1,20):\n",
        "  svm_radial = SVC(C=i, kernel='rbf')\n",
        "  svm_radial.fit(x_training, y_training)\n",
        "  prev = svm_radial.predict(x_validation)\n",
        "  # Grava a taxa de erro com o degree = i na posicao i+1\n",
        "  acuracia.append(accuracy_score(y_validation, prev))\n",
        "\n",
        "melhor_c = (np.argmax(acuracia)+1) # Grava o valor que apresentou o melhor resuldado\n",
        "print(acuracia) # Mostra as taxas de erro\n",
        "print(\"Melhor C = \", melhor_c) # Mostra o valor que apresentou a maior acuracia\n",
        "print(\"Acuracia com o C =\", melhor_c, \" = \", acuracia[np.argmax(acuracia)])"
      ],
      "metadata": {
        "colab": {
          "base_uri": "https://localhost:8080/"
        },
        "id": "9hX756_6WaUB",
        "outputId": "b18bfcbd-fd3e-4756-82ad-29760b8f84e5"
      },
      "execution_count": null,
      "outputs": [
        {
          "output_type": "stream",
          "name": "stdout",
          "text": [
            "SVM Polinomial\n",
            "[0.958, 0.956, 0.96, 0.962, 0.96, 0.96, 0.96, 0.96, 0.96, 0.96, 0.96, 0.96, 0.96, 0.96, 0.96, 0.96, 0.96, 0.96, 0.96, 0.96]\n",
            "Melhor C =  4\n",
            "Acuracia com o C = 4  =  0.962\n",
            "------------------------------------------------------------------\n",
            "SVM Radial\n",
            "[0.964, 0.966, 0.966, 0.968, 0.968, 0.966, 0.964, 0.964, 0.964, 0.964, 0.964, 0.964, 0.964, 0.964, 0.964, 0.964, 0.964, 0.964, 0.964]\n",
            "Melhor C =  4\n",
            "Acuracia com o C = 4  =  0.968\n"
          ]
        }
      ]
    },
    {
      "cell_type": "markdown",
      "source": [
        "MLP"
      ],
      "metadata": {
        "id": "MfAlvO0Daj_Y"
      }
    },
    {
      "cell_type": "code",
      "source": [
        "acuracia = []\n",
        "\n",
        "# Inicializa o classificador\n",
        "for i in range (1,10):\n",
        "  for j in range (1,10):\n",
        "    for k in range (1,10):\n",
        "      mlp = MLPClassifier(max_iter=(k*200) , hidden_layer_sizes=(j*50), learning_rate_init=((i)/10) )\n",
        "      mlp.fit(x_training, y_training)\n",
        "      prev = mlp.predict(x_validation)\n",
        "      \n",
        "      # Grava a acuracia com o k = i na posição i+1\n",
        "      acuracia.append(accuracy_score(y_validation, prev))\n",
        "\n",
        "melhor_param = str(np.argmax(acuracia)+111)\n",
        "print(acuracia)\n",
        "\n",
        "melhor_max_iter = int(melhor_param[0])*200 # Grava os parametros que apresentaram o melhor resultado\n",
        "melhor_hidden_layer = int(melhor_param[1])*50\n",
        "melhor_learning_rate = int(melhor_param[2])/10\n",
        "print(\"Melhor max iter = \", melhor_max_iter) # Mostra o valor que apresentou a maior acuracia\n",
        "print(\"Melhor hidden layer = \",melhor_hidden_layer)\n",
        "print(\"Melhor learning rate = \",melhor_learning_rate)\n",
        "print(\"Acuracia com os melhores parametros = \", acuracia[np.argmax(acuracia)])"
      ],
      "metadata": {
        "colab": {
          "base_uri": "https://localhost:8080/"
        },
        "id": "KT13UoPzalOS",
        "outputId": "6c4f6e94-6f38-450e-dfd8-c2ec24c2e3f6"
      },
      "execution_count": null,
      "outputs": [
        {
          "output_type": "stream",
          "name": "stdout",
          "text": [
            "[0.942, 0.958, 0.956, 0.946, 0.962, 0.952, 0.948, 0.96, 0.96, 0.964, 0.944, 0.964, 0.962, 0.96, 0.956, 0.956, 0.952, 0.958, 0.944, 0.948, 0.962, 0.94, 0.966, 0.958, 0.96, 0.944, 0.966, 0.952, 0.95, 0.948, 0.966, 0.95, 0.968, 0.934, 0.964, 0.954, 0.958, 0.94, 0.956, 0.964, 0.948, 0.896, 0.954, 0.962, 0.958, 0.97, 0.964, 0.952, 0.958, 0.946, 0.954, 0.952, 0.97, 0.958, 0.968, 0.966, 0.956, 0.956, 0.962, 0.96, 0.952, 0.966, 0.944, 0.96, 0.95, 0.956, 0.942, 0.958, 0.97, 0.952, 0.944, 0.94, 0.97, 0.97, 0.964, 0.95, 0.938, 0.94, 0.962, 0.962, 0.948, 0.938, 0.96, 0.954, 0.966, 0.966, 0.966, 0.948, 0.934, 0.956, 0.938, 0.95, 0.97, 0.95, 0.968, 0.958, 0.97, 0.948, 0.952, 0.96, 0.964, 0.942, 0.952, 0.96, 0.95, 0.958, 0.966, 0.97, 0.942, 0.948, 0.96, 0.966, 0.968, 0.958, 0.958, 0.956, 0.954, 0.952, 0.958, 0.958, 0.942, 0.956, 0.96, 0.954, 0.968, 0.954, 0.944, 0.948, 0.96, 0.968, 0.964, 0.946, 0.956, 0.966, 0.96, 0.932, 0.96, 0.946, 0.956, 0.922, 0.944, 0.948, 0.936, 0.934, 0.942, 0.946, 0.94, 0.966, 0.936, 0.95, 0.962, 0.962, 0.96, 0.964, 0.968, 0.958, 0.964, 0.974, 0.95, 0.948, 0.954, 0.928, 0.962, 0.944, 0.95, 0.954, 0.946, 0.946, 0.962, 0.964, 0.96, 0.956, 0.954, 0.94, 0.874, 0.938, 0.938, 0.958, 0.924, 0.944, 0.966, 0.942, 0.95, 0.964, 0.954, 0.956, 0.948, 0.95, 0.952, 0.954, 0.964, 0.944, 0.896, 0.972, 0.948, 0.94, 0.956, 0.948, 0.916, 0.958, 0.954, 0.962, 0.95, 0.956, 0.956, 0.948, 0.96, 0.944, 0.938, 0.952, 0.96, 0.96, 0.954, 0.94, 0.956, 0.952, 0.938, 0.94, 0.95, 0.956, 0.962, 0.908, 0.936, 0.914, 0.962, 0.956, 0.964, 0.962, 0.936, 0.962, 0.968, 0.964, 0.946, 0.95, 0.958, 0.966, 0.936, 0.926, 0.95, 0.948, 0.964, 0.966, 0.964, 0.944, 0.96, 0.966, 0.968, 0.936, 0.954, 0.942, 0.97, 0.962, 0.962, 0.956, 0.958, 0.956, 0.954, 0.962, 0.962, 0.964, 0.958, 0.958, 0.962, 0.956, 0.948, 0.946, 0.96, 0.948, 0.96, 0.942, 0.96, 0.954, 0.968, 0.944, 0.952, 0.932, 0.942, 0.946, 0.966, 0.954, 0.962, 0.962, 0.932, 0.94, 0.948, 0.938, 0.96, 0.962, 0.964, 0.872, 0.964, 0.946, 0.948, 0.972, 0.952, 0.966, 0.966, 0.916, 0.948, 0.958, 0.954, 0.94, 0.93, 0.912, 0.964, 0.946, 0.936, 0.96, 0.96, 0.952, 0.946, 0.95, 0.964, 0.96, 0.954, 0.946, 0.956, 0.942, 0.938, 0.956, 0.958, 0.958, 0.904, 0.954, 0.95, 0.97, 0.948, 0.948, 0.812, 0.704, 0.952, 0.804, 0.954, 0.936, 0.956, 0.964, 0.964, 0.95, 0.5, 0.96, 0.942, 0.946, 0.946, 0.97, 0.968, 0.506, 0.96, 0.94, 0.806, 0.958, 0.954, 0.954, 0.95, 0.956, 0.5, 0.958, 0.954, 0.962, 0.938, 0.962, 0.904, 0.938, 0.948, 0.946, 0.964, 0.542, 0.958, 0.944, 0.97, 0.934, 0.956, 0.938, 0.954, 0.934, 0.954, 0.946, 0.954, 0.946, 0.958, 0.938, 0.964, 0.898, 0.966, 0.542, 0.936, 0.952, 0.948, 0.922, 0.954, 0.956, 0.938, 0.964, 0.804, 0.95, 0.952, 0.966, 0.958, 0.952, 0.944, 0.956, 0.956, 0.948, 0.95, 0.932, 0.504, 0.952, 0.954, 0.502, 0.962, 0.508, 0.938, 0.948, 0.96, 0.958, 0.964, 0.938, 0.952, 0.502, 0.962, 0.942, 0.964, 0.502, 0.956, 0.944, 0.952, 0.944, 0.948, 0.96, 0.928, 0.956, 0.95, 0.5, 0.948, 0.96, 0.964, 0.958, 0.914, 0.962, 0.93, 0.952, 0.96, 0.94, 0.962, 0.954, 0.962, 0.956, 0.946, 0.956, 0.954, 0.956, 0.93, 0.922, 0.808, 0.952, 0.964, 0.942, 0.942, 0.96, 0.968, 0.964, 0.954, 0.95, 0.962, 0.906, 0.94, 0.508, 0.96, 0.93, 0.962, 0.948, 0.954, 0.952, 0.946, 0.936, 0.96, 0.962, 0.966, 0.962, 0.946, 0.958, 0.96, 0.96, 0.666, 0.962, 0.952, 0.958, 0.5, 0.946, 0.5, 0.942, 0.5, 0.5, 0.806, 0.934, 0.956, 0.956, 0.946, 0.5, 0.938, 0.96, 0.798, 0.936, 0.948, 0.562, 0.5, 0.948, 0.958, 0.96, 0.5, 0.958, 0.948, 0.518, 0.824, 0.5, 0.944, 0.93, 0.96, 0.936, 0.944, 0.956, 0.944, 0.956, 0.608, 0.964, 0.948, 0.96, 0.944, 0.962, 0.502, 0.944, 0.562, 0.502, 0.956, 0.958, 0.93, 0.966, 0.502, 0.964, 0.5, 0.944, 0.932, 0.502, 0.958, 0.94, 0.934, 0.942, 0.97, 0.934, 0.964, 0.926, 0.968, 0.946, 0.5, 0.964, 0.962, 0.96, 0.95, 0.508, 0.958, 0.964, 0.952, 0.938, 0.944, 0.968, 0.964, 0.502, 0.958, 0.946, 0.956, 0.5, 0.938, 0.952, 0.962, 0.51, 0.942, 0.944, 0.91, 0.5, 0.642, 0.928, 0.784, 0.5, 0.502, 0.5, 0.95, 0.96, 0.502, 0.96, 0.956, 0.912, 0.958, 0.942, 0.502, 0.532, 0.964, 0.944, 0.96, 0.954, 0.5, 0.5, 0.946, 0.932, 0.954, 0.966, 0.966, 0.502, 0.5, 0.956, 0.956, 0.954, 0.952, 0.962, 0.962, 0.954, 0.952, 0.958, 0.512, 0.572, 0.966, 0.96, 0.938, 0.96, 0.502, 0.924, 0.962, 0.934, 0.936, 0.932, 0.506, 0.572, 0.964, 0.966, 0.956, 0.942, 0.502, 0.946, 0.952, 0.952, 0.964, 0.514, 0.95, 0.5, 0.95, 0.5, 0.924, 0.926, 0.502, 0.952, 0.506, 0.794, 0.5, 0.904, 0.956, 0.502, 0.956, 0.934, 0.5, 0.942, 0.5, 0.94, 0.5, 0.958, 0.93, 0.944, 0.968, 0.956, 0.96, 0.512, 0.95, 0.958, 0.618, 0.512, 0.95, 0.96, 0.946, 0.954, 0.854, 0.534, 0.948, 0.938, 0.974, 0.504, 0.938, 0.968, 0.524, 0.964, 0.966, 0.958, 0.96, 0.536, 0.936, 0.956, 0.958, 0.954, 0.94, 0.944, 0.966, 0.954, 0.502, 0.942, 0.944, 0.942, 0.502, 0.948, 0.932, 0.952, 0.936, 0.5, 0.82, 0.924, 0.58, 0.952, 0.512, 0.5, 0.968, 0.956, 0.5, 0.502, 0.944, 0.95, 0.498, 0.5, 0.938, 0.966, 0.968, 0.502, 0.956, 0.954, 0.938]\n",
            "Melhor max iter =  400\n",
            "Melhor hidden layer =  300\n",
            "Melhor learning rate =  0.8\n",
            "Acuracia com os melhores parametros =  0.974\n"
          ]
        }
      ]
    },
    {
      "cell_type": "markdown",
      "source": [
        "O melhor MLP foi com os seguintes parametros:\n",
        "\n",
        "- Melhor épocas de treino = 400\n",
        "- Melhor camadas escondidas = 300\n",
        "- Melhor taxa de aprendizagem = 0.8"
      ],
      "metadata": {
        "id": "IssF_W0ddzDA"
      }
    },
    {
      "cell_type": "markdown",
      "source": [
        "AVALIANDO OS CALSSIFICADORES"
      ],
      "metadata": {
        "id": "iiQv8tu5cTrV"
      }
    },
    {
      "cell_type": "code",
      "source": [
        "acuraciaknn = []\n",
        "acuraciaad = []\n",
        "acuracianb = []\n",
        "acuraciasvm = []\n",
        "acuraciamlp = []\n",
        "\n",
        "soma = []\n",
        "produto = []\n",
        "\n",
        "\n",
        "for i in range(1,21):\n",
        "\n",
        "  #Realiza a divisão (metade para cada, 50% para treino e 50% para restante)\n",
        "  x_treino, x_restante, y_treino, y_restante = train_test_split(df_param, df['Class'], test_size=0.5, shuffle=True, stratify=df['Class'])\n",
        "\n",
        "  #Realiza a divisão do restante (metade para cada, 50% para teste e 50% para validação)\n",
        "  x_validacao, x_teste, y_validacao, y_teste = train_test_split(x_restante, y_restante, test_size=0.5, shuffle=True, stratify=y_restante)\n",
        "    \n",
        "  # KNN\n",
        "  # Inicializa o classificador com o melhor parametro\n",
        "  knn = KNeighborsClassifier(n_neighbors = 2)\n",
        "  knn.fit(x_treino, y_treino)\n",
        "  prev = knn.predict(x_teste)\n",
        "  \n",
        "  acuraciaknn.append(accuracy_score(y_teste, prev))\n",
        "\n",
        "  # Avalia a precisão\n",
        "  clasiffication_knn = classification_report(y_teste, prev)\n",
        "  knn_prev = prev  \n",
        "\n",
        "  # Árvore de decisão\n",
        "  # Inicializa o classificador com o melhor parametro\n",
        "  ad = DecisionTreeClassifier(max_depth = 3)\n",
        "  ad.fit(x_treino, y_treino) \n",
        "  prev = ad.predict(x_teste)\n",
        "  acuraciaad.append(accuracy_score(y_teste, prev))\n",
        "\n",
        "  # Avalia a precisão\n",
        "  clasiffication_ad = classification_report(y_teste, prev)\n",
        "  ad_prev = prev\n",
        "\n",
        "  # NB\n",
        "  # Inicializa o classificador\n",
        "  nb = GaussianNB()\n",
        "  nb.fit(x_treino, y_treino)\n",
        "  prev = nb.predict(x_teste)\n",
        "\n",
        "  acuracianb.append(accuracy_score(y_teste, prev))\n",
        "\n",
        "  # Avalia a precisão\n",
        "  clasiffication_nb = classification_report(y_teste, prev)\n",
        "  nb_prev = prev\n",
        "\n",
        "  # SVM\n",
        "  svm_radial = SVC(C=2, kernel='rbf', probability=True)\n",
        "  svm_radial.fit(x_treino, y_treino)\n",
        "  prev = svm_radial.predict(x_teste)\n",
        "\n",
        "  acuraciasvm.append(accuracy_score(y_teste, prev))\n",
        "  \n",
        "  # Avalia a precisão\n",
        "  clasiffication_svm = classification_report(y_teste, prev)\n",
        "  svm_prev = prev\n",
        " \n",
        "  # MLP\n",
        "  mlp = MLPClassifier(max_iter=200 , hidden_layer_sizes=50, learning_rate_init=0.4)\n",
        "  mlp.fit(x_treino, y_treino)\n",
        "  prev = mlp.predict(x_teste)\n",
        "\n",
        "  acuraciamlp.append(accuracy_score(y_teste, prev))\n",
        "\n",
        "  \n",
        "  # Avalia a precisão\n",
        "  clasiffication_mlp = classification_report(y_teste, prev)\n",
        "  mlp_prev = prev\n",
        "\n",
        "  svm_proba = svm_radial.predict_proba(x_teste)\n",
        "  knn_proba = knn.predict_proba(x_teste)\n",
        "  ad_proba = ad.predict_proba(x_teste)\n",
        "  mlp_proba = mlp.predict_proba(x_teste)\n",
        "  nb_proba = nb.predict_proba(x_teste)\n",
        "\n",
        "\n",
        "print(\"KNN\")\n",
        "print(\"\")\n",
        "print(\"Acuracias = \", acuraciaknn)\n",
        "print(\"Maior acuracia = \", acuraciaknn[np.argmax(acuraciaknn)])\n",
        "print(\"Desvio padrão = \", statistics.pstdev(acuraciaknn))\n",
        "print(\"Media geometrica = \", statistics.mean(acuraciaknn))\n",
        "print(clasiffication_knn)\n",
        "print(\"\")\n",
        "print(\"-----------------------------------------------------------------------\")\n",
        "print(\"\")\n",
        "print(\"Árvore de decisão\")\n",
        "print(\"\")\n",
        "print(acuraciaad)\n",
        "print(\"Maior acuracia = \", acuraciaad[np.argmax(acuraciaad)])\n",
        "print(\"Desvio padrão = \", statistics.pstdev(acuraciaad))\n",
        "print(\"Media geometrica = \", statistics.mean(acuraciaad))\n",
        "print(clasiffication_ad)\n",
        "print(\"\")\n",
        "print(\"-----------------------------------------------------------------------\")\n",
        "print(\"\")\n",
        "print(\"Naive Bayes\")\n",
        "print(\"\")\n",
        "print(acuracianb)\n",
        "print(\"Maior acuracia = \", acuracianb[np.argmax(acuracianb)])\n",
        "print(\"Desvio padrão = \", statistics.pstdev(acuracianb))\n",
        "print(\"Media geometrica = \", statistics.mean(acuracianb))\n",
        "print(clasiffication_nb)\n",
        "print(\"\")\n",
        "print(\"-----------------------------------------------------------------------\")\n",
        "print(\"\")\n",
        "print(\"SVM\")\n",
        "print(\"\")\n",
        "print(acuraciasvm)\n",
        "print(\"Maior acuracia = \", acuraciasvm[np.argmax(acuraciasvm)])\n",
        "print(\"Desvio padrão = \", statistics.pstdev(acuraciasvm))\n",
        "print(\"Media geometrica = \", statistics.mean(acuraciasvm))\n",
        "print(clasiffication_svm)\n",
        "print(\"\")\n",
        "print(\"-----------------------------------------------------------------------\")\n",
        "print(\"\")\n",
        "print(\"MLP\")\n",
        "print(\"\")\n",
        "print(acuraciamlp)\n",
        "print(\"Maior acuracia = \", acuraciamlp[np.argmax(acuraciamlp)])\n",
        "print(\"Desvio padrão = \", statistics.pstdev(acuraciamlp))\n",
        "print(\"Media geometrica = \", statistics.mean(acuraciamlp))\n",
        "print(clasiffication_mlp)"
      ],
      "metadata": {
        "colab": {
          "base_uri": "https://localhost:8080/"
        },
        "id": "Z9eKjk90cVwg",
        "outputId": "b7cca9bd-81b4-40ec-964c-d9ad86925be3"
      },
      "execution_count": null,
      "outputs": [
        {
          "output_type": "stream",
          "name": "stdout",
          "text": [
            "KNN\n",
            "\n",
            "Acuracias =  [0.956, 0.968, 0.962, 0.972, 0.952, 0.964, 0.954, 0.942, 0.956, 0.962, 0.956, 0.958, 0.972, 0.972, 0.968, 0.956, 0.966, 0.956, 0.964, 0.964]\n",
            "Maior acuracia =  0.972\n",
            "Desvio padrão =  0.007549834435270757\n",
            "Media geometrica =  0.961\n",
            "              precision    recall  f1-score   support\n",
            "\n",
            "           1       0.95      0.98      0.96       250\n",
            "           2       0.98      0.94      0.96       250\n",
            "\n",
            "    accuracy                           0.96       500\n",
            "   macro avg       0.96      0.96      0.96       500\n",
            "weighted avg       0.96      0.96      0.96       500\n",
            "\n",
            "\n",
            "-----------------------------------------------------------------------\n",
            "\n",
            "Árvore de decisão\n",
            "\n",
            "[0.922, 0.938, 0.924, 0.938, 0.904, 0.93, 0.914, 0.918, 0.914, 0.926, 0.934, 0.914, 0.944, 0.918, 0.924, 0.916, 0.932, 0.922, 0.912, 0.928]\n",
            "Maior acuracia =  0.944\n",
            "Desvio padrão =  0.009991996797437418\n",
            "Media geometrica =  0.9236\n",
            "              precision    recall  f1-score   support\n",
            "\n",
            "           1       0.89      0.97      0.93       250\n",
            "           2       0.97      0.88      0.92       250\n",
            "\n",
            "    accuracy                           0.93       500\n",
            "   macro avg       0.93      0.93      0.93       500\n",
            "weighted avg       0.93      0.93      0.93       500\n",
            "\n",
            "\n",
            "-----------------------------------------------------------------------\n",
            "\n",
            "Naive Bayes\n",
            "\n",
            "[0.904, 0.904, 0.9, 0.902, 0.896, 0.882, 0.87, 0.878, 0.884, 0.886, 0.914, 0.848, 0.93, 0.92, 0.878, 0.88, 0.894, 0.892, 0.91, 0.894]\n",
            "Maior acuracia =  0.93\n",
            "Desvio padrão =  0.01821290751088361\n",
            "Media geometrica =  0.8933\n",
            "              precision    recall  f1-score   support\n",
            "\n",
            "           1       0.90      0.89      0.89       250\n",
            "           2       0.89      0.90      0.89       250\n",
            "\n",
            "    accuracy                           0.89       500\n",
            "   macro avg       0.89      0.89      0.89       500\n",
            "weighted avg       0.89      0.89      0.89       500\n",
            "\n",
            "\n",
            "-----------------------------------------------------------------------\n",
            "\n",
            "SVM\n",
            "\n",
            "[0.974, 0.976, 0.97, 0.968, 0.968, 0.968, 0.964, 0.956, 0.968, 0.97, 0.968, 0.974, 0.982, 0.98, 0.978, 0.97, 0.974, 0.968, 0.988, 0.97]\n",
            "Maior acuracia =  0.988\n",
            "Desvio padrão =  0.006760917097554154\n",
            "Media geometrica =  0.9717\n",
            "              precision    recall  f1-score   support\n",
            "\n",
            "           1       0.97      0.97      0.97       250\n",
            "           2       0.97      0.97      0.97       250\n",
            "\n",
            "    accuracy                           0.97       500\n",
            "   macro avg       0.97      0.97      0.97       500\n",
            "weighted avg       0.97      0.97      0.97       500\n",
            "\n",
            "\n",
            "-----------------------------------------------------------------------\n",
            "\n",
            "MLP\n",
            "\n",
            "[0.96, 0.916, 0.97, 0.974, 0.96, 0.96, 0.96, 0.946, 0.962, 0.966, 0.958, 0.786, 0.968, 0.966, 0.956, 0.946, 0.97, 0.93, 0.972, 0.97]\n",
            "Maior acuracia =  0.974\n",
            "Desvio padrão =  0.04013925759153997\n",
            "Media geometrica =  0.9498\n",
            "              precision    recall  f1-score   support\n",
            "\n",
            "           1       0.98      0.96      0.97       250\n",
            "           2       0.96      0.98      0.97       250\n",
            "\n",
            "    accuracy                           0.97       500\n",
            "   macro avg       0.97      0.97      0.97       500\n",
            "weighted avg       0.97      0.97      0.97       500\n",
            "\n"
          ]
        }
      ]
    },
    {
      "cell_type": "code",
      "source": [
        "acuracias_regra_produto = []\n",
        "prod1 = []\n",
        "prod2 = []\n",
        "for i in range(20):\n",
        "    prev_produto = []\n",
        "    prod1 = prod2 = 0\n",
        "    for j in range(75):\n",
        "        prod1 = knn_proba[i][j][0] * ad_proba[i][j][0] * svm_prev[i][j][0] * mlp_prev[i][j][0] * nb_prev[i][j][0]\n",
        "        prod2 =  knn_proba[i][j][1] * ad_proba[i][j][1] * svm_proba[i][j][1] * mlp_proba[i][j][1] * nb_proba[i][j][1]\n",
        "        if prod1 >= prod2:\n",
        "            pred_produto.append(1)\n",
        "        else:\n",
        "            pred_produto.append(2)\n",
        "    acuracias_regra_produto.append(accuracy_score(y_teste,pred_produto))\n",
        "\n",
        "print(\"Acurácias múltiplos classificadores com regra do produto:\")\n",
        "print(*acuracias_regra_produto, sep=' | ')\n",
        "print(\"Maior acurácia = \",acuracias_regra_soma[np.argmax(acuracias_regra_produto)])\n",
        "media_regra_produto = statistics.mean(acuracias_regra_produto)\n",
        "print(\"Média das acurácias = \",media_regra_produto)\n",
        "desviop_regra_produto = statistics.pstdev(acuracias_regra_produto)\n",
        "print(\"Desvio padrão das acurácias = \",desviop_regra_produto)"
      ],
      "metadata": {
        "colab": {
          "base_uri": "https://localhost:8080/",
          "height": 269
        },
        "id": "WkTH3p5NiE1Q",
        "outputId": "150bd89a-d496-41ae-a7b2-f20d3f4d1202"
      },
      "execution_count": null,
      "outputs": [
        {
          "output_type": "error",
          "ename": "IndexError",
          "evalue": "ignored",
          "traceback": [
            "\u001b[0;31m---------------------------------------------------------------------------\u001b[0m",
            "\u001b[0;31mIndexError\u001b[0m                                Traceback (most recent call last)",
            "\u001b[0;32m<ipython-input-43-39d9567e8e44>\u001b[0m in \u001b[0;36m<module>\u001b[0;34m()\u001b[0m\n\u001b[1;32m      6\u001b[0m     \u001b[0mprod1\u001b[0m \u001b[0;34m=\u001b[0m \u001b[0mprod2\u001b[0m \u001b[0;34m=\u001b[0m \u001b[0;36m0\u001b[0m\u001b[0;34m\u001b[0m\u001b[0;34m\u001b[0m\u001b[0m\n\u001b[1;32m      7\u001b[0m     \u001b[0;32mfor\u001b[0m \u001b[0mj\u001b[0m \u001b[0;32min\u001b[0m \u001b[0mrange\u001b[0m\u001b[0;34m(\u001b[0m\u001b[0;36m75\u001b[0m\u001b[0;34m)\u001b[0m\u001b[0;34m:\u001b[0m\u001b[0;34m\u001b[0m\u001b[0;34m\u001b[0m\u001b[0m\n\u001b[0;32m----> 8\u001b[0;31m         \u001b[0mprod1\u001b[0m \u001b[0;34m=\u001b[0m \u001b[0mknn_prev\u001b[0m\u001b[0;34m[\u001b[0m\u001b[0mi\u001b[0m\u001b[0;34m]\u001b[0m\u001b[0;34m[\u001b[0m\u001b[0mj\u001b[0m\u001b[0;34m]\u001b[0m\u001b[0;34m[\u001b[0m\u001b[0;36m0\u001b[0m\u001b[0;34m]\u001b[0m \u001b[0;34m*\u001b[0m \u001b[0mad_prev\u001b[0m\u001b[0;34m[\u001b[0m\u001b[0mi\u001b[0m\u001b[0;34m]\u001b[0m\u001b[0;34m[\u001b[0m\u001b[0mj\u001b[0m\u001b[0;34m]\u001b[0m\u001b[0;34m[\u001b[0m\u001b[0;36m0\u001b[0m\u001b[0;34m]\u001b[0m \u001b[0;34m*\u001b[0m \u001b[0msvm_prev\u001b[0m\u001b[0;34m[\u001b[0m\u001b[0mi\u001b[0m\u001b[0;34m]\u001b[0m\u001b[0;34m[\u001b[0m\u001b[0mj\u001b[0m\u001b[0;34m]\u001b[0m\u001b[0;34m[\u001b[0m\u001b[0;36m0\u001b[0m\u001b[0;34m]\u001b[0m \u001b[0;34m*\u001b[0m \u001b[0mmlp_prev\u001b[0m\u001b[0;34m[\u001b[0m\u001b[0mi\u001b[0m\u001b[0;34m]\u001b[0m\u001b[0;34m[\u001b[0m\u001b[0mj\u001b[0m\u001b[0;34m]\u001b[0m\u001b[0;34m[\u001b[0m\u001b[0;36m0\u001b[0m\u001b[0;34m]\u001b[0m \u001b[0;34m*\u001b[0m \u001b[0mnb_prev\u001b[0m\u001b[0;34m[\u001b[0m\u001b[0mi\u001b[0m\u001b[0;34m]\u001b[0m\u001b[0;34m[\u001b[0m\u001b[0mj\u001b[0m\u001b[0;34m]\u001b[0m\u001b[0;34m[\u001b[0m\u001b[0;36m0\u001b[0m\u001b[0;34m]\u001b[0m\u001b[0;34m\u001b[0m\u001b[0;34m\u001b[0m\u001b[0m\n\u001b[0m\u001b[1;32m      9\u001b[0m         \u001b[0mprod2\u001b[0m \u001b[0;34m=\u001b[0m  \u001b[0mknn_proba\u001b[0m\u001b[0;34m[\u001b[0m\u001b[0mi\u001b[0m\u001b[0;34m]\u001b[0m\u001b[0;34m[\u001b[0m\u001b[0mj\u001b[0m\u001b[0;34m]\u001b[0m\u001b[0;34m[\u001b[0m\u001b[0;36m1\u001b[0m\u001b[0;34m]\u001b[0m \u001b[0;34m*\u001b[0m \u001b[0mad_proba\u001b[0m\u001b[0;34m[\u001b[0m\u001b[0mi\u001b[0m\u001b[0;34m]\u001b[0m\u001b[0;34m[\u001b[0m\u001b[0mj\u001b[0m\u001b[0;34m]\u001b[0m\u001b[0;34m[\u001b[0m\u001b[0;36m1\u001b[0m\u001b[0;34m]\u001b[0m \u001b[0;34m*\u001b[0m \u001b[0msvm_proba\u001b[0m\u001b[0;34m[\u001b[0m\u001b[0mi\u001b[0m\u001b[0;34m]\u001b[0m\u001b[0;34m[\u001b[0m\u001b[0mj\u001b[0m\u001b[0;34m]\u001b[0m\u001b[0;34m[\u001b[0m\u001b[0;36m1\u001b[0m\u001b[0;34m]\u001b[0m \u001b[0;34m*\u001b[0m \u001b[0mmlp_proba\u001b[0m\u001b[0;34m[\u001b[0m\u001b[0mi\u001b[0m\u001b[0;34m]\u001b[0m\u001b[0;34m[\u001b[0m\u001b[0mj\u001b[0m\u001b[0;34m]\u001b[0m\u001b[0;34m[\u001b[0m\u001b[0;36m1\u001b[0m\u001b[0;34m]\u001b[0m \u001b[0;34m*\u001b[0m \u001b[0mnb_proba\u001b[0m\u001b[0;34m[\u001b[0m\u001b[0mi\u001b[0m\u001b[0;34m]\u001b[0m\u001b[0;34m[\u001b[0m\u001b[0mj\u001b[0m\u001b[0;34m]\u001b[0m\u001b[0;34m[\u001b[0m\u001b[0;36m1\u001b[0m\u001b[0;34m]\u001b[0m\u001b[0;34m\u001b[0m\u001b[0;34m\u001b[0m\u001b[0m\n\u001b[1;32m     10\u001b[0m         \u001b[0;32mif\u001b[0m \u001b[0mprod1\u001b[0m \u001b[0;34m>=\u001b[0m \u001b[0mprod2\u001b[0m\u001b[0;34m:\u001b[0m\u001b[0;34m\u001b[0m\u001b[0;34m\u001b[0m\u001b[0m\n",
            "\u001b[0;31mIndexError\u001b[0m: invalid index to scalar variable."
          ]
        }
      ]
    }
  ]
}